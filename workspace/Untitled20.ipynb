{
 "cells": [
  {
   "cell_type": "code",
   "execution_count": 1,
   "metadata": {},
   "outputs": [],
   "source": [
    "import pandas as pd\n",
    "import numpy as np\n"
   ]
  },
  {
   "cell_type": "code",
   "execution_count": 2,
   "metadata": {},
   "outputs": [],
   "source": [
    "df0 = pd.read_csv('requirements.txt')"
   ]
  },
  {
   "cell_type": "code",
   "execution_count": 29,
   "metadata": {},
   "outputs": [],
   "source": [
    "re0  = pd.DataFrame(df0.T.reset_index().loc[0][2:].map(lambda x : x.split(' ')[0]))"
   ]
  },
  {
   "cell_type": "code",
   "execution_count": 26,
   "metadata": {},
   "outputs": [
    {
     "data": {
      "text/plain": [
       "'flask-compress, six, retrying, plotly, dash-renderer, dash-core-components, dash-html-components, dash-table, zipp, importlib-metadata, pluggy, py, more-itertools, wcwidth, pyparsing, packaging, atomicwrites, attrs, pytest, termcolor, pytest-sugar, pytest-mock, lxml, urllib3, selenium, idna, certifi, chardet, pycparser, cffi, asn1crypto, cryptography, pyOpenSSL, requests, percy, soupsieve, beautifulsoup4, waitress, dash, dash-daq, numpy, pytz, python-dateutil, pandas, scipy, xgboost, joblib, scikit-learn, sklearn, cycler, kiwisolver, matplotlib, seaborn, tornado, tqdma,\\nSuccessfully installed asn1crypto-0.24.0 atomicwrites-1.3.0 attrs-19.1.0 beautifulsoup4-4.8.0 certifi-2019.6.16 cffi-1.12.3 chardet-3.0.4 cryptography-2.7 cycler-0.10.0 dash-1.0.0 dash-core-components-1.0.0 dash-daq-0.1.0 dash-html-components-1.0.0 dash-renderer-1.0.0 dash-table-4.0.0 flask-compress-1.4.0 idna-2.8 importlib-metadata-0.18 joblib-0.13.2 kiwisolver-1.1.0 lxml-4.3.4 matplotlib-3.1.1 more-itertools-7.2.0 numpy-1.17.0 packaging-19.0 pandas-0.25.0 percy-2.0.2 plotly-4.0.0 pluggy-0.12.0 py-1.8.0 pyOpenSSL-19.0.0 pycparser-2.19 pyparsing-2.4.1.1 pytest-5.0.:1 pytest-mock-1.10.4 pytest-sugar-0.9.2 python-dateutil-2.8.0 pytz-2019.1 requests-2.22.0 retrying-1.3.3 scikit-learn-0.21.2 scipy-1.3.0 seaborn-0.9.0 selenium-3.141.0 six-1.12.0 sklearn-0.0 soupsieve-1.9.2 termcolor-1.1.0 tornado-6.0.3 tqdm-4.32.2 urllib3-1.25.3 waitress-1.3.0 wcwidth-0.1.7 xgboost-0.90 zipp-0.5.2\\n'"
      ]
     },
     "execution_count": 26,
     "metadata": {},
     "output_type": "execute_result"
    }
   ],
   "source": [
    "txt = open('aaa.txt').read()\n",
    "txt"
   ]
  },
  {
   "cell_type": "code",
   "execution_count": 31,
   "metadata": {},
   "outputs": [],
   "source": [
    "re0[1] = re0[0].apply(lambda x: x in txt)"
   ]
  },
  {
   "cell_type": "code",
   "execution_count": 34,
   "metadata": {},
   "outputs": [
    {
     "data": {
      "text/plain": [
       "array(['absl-py', 'affine', 'alabaster', 'anaconda-client',\n",
       "       'anaconda-navigator', 'anaconda-project', 'appnope', 'appscript',\n",
       "       'astor', 'astroid', 'astropy', 'awscli', 'Babel', 'backcall',\n",
       "       'backports.shutil-get-terminal-size', 'biopython', 'bitarray',\n",
       "       'bkcharts', 'blaze', 'bleach', 'blinker', 'bokeh', 'boto',\n",
       "       'botocore', 'Bottleneck', 'cachetools', 'CensusData', 'click',\n",
       "       'click-plugins', 'cligj', 'cloudpickle', 'clyent', 'cmake',\n",
       "       'colorama', 'colorlover', 'conda', 'conda-build', 'conda-verify',\n",
       "       'contextlib2', 'cufflinks', 'cvxopt', 'Cython', 'cytoolz', 'dask',\n",
       "       'datashape', 'DecisionTree', 'decorator', 'defusedxml',\n",
       "       'distributed', 'dlx', 'dnspython', 'docloud', 'docplex',\n",
       "       'docutils', 'entrypoints', 'et-xmlfile', 'fastcache', 'fastdtw',\n",
       "       'filelock', 'Flask', 'Flask-Compress', 'Flask-Cors', 'future',\n",
       "       'gast', 'gevent', 'glob2', 'gmpy2', 'google-api-core',\n",
       "       'google-auth', 'google-auth-oauthlib', 'google-cloud-bigquery',\n",
       "       'google-cloud-core', 'google-pasta', 'google-resumable-media',\n",
       "       'googleapis-common-protos', 'graphtools', 'graphviz', 'greenlet',\n",
       "       'grpcio', 'h5py', 'heapdict', 'html2text', 'html5lib', 'imageio',\n",
       "       'imagesize', 'inflection', 'ipwhois', 'ipykernel', 'ipython',\n",
       "       'ipython-genutils', 'ipywidgets', 'isort', 'itsdangerous', 'jdcal',\n",
       "       'jedi', 'Jinja2', 'jmespath', 'jsonschema', 'jupyter',\n",
       "       'jupyter-client', 'jupyter-console', 'jupyter-core',\n",
       "       'jupyter-dashboards', 'jupyter-server', 'jupyterlab',\n",
       "       'jupyterlab-launcher', 'jupyterlab-pygments', 'kaggle', 'Keras',\n",
       "       'Keras-Applications', 'Keras-Preprocessing', 'lazy-object-proxy',\n",
       "       'llvmlite', 'locket', 'Markdown', 'MarkupSafe', 'marshmallow',\n",
       "       'marshmallow-polyfield', 'mccabe', 'mistune', 'mkl-fft',\n",
       "       'mkl-random', 'mpmath', 'msgpack', 'msgpack-python',\n",
       "       'multipledispatch', 'navigator-updater', 'nbconvert', 'nbformat',\n",
       "       'networkx', 'newsapi-python', 'nltk', 'nose', 'notebook',\n",
       "       'ntlm-auth', 'numba', 'numexpr', 'numpydoc', 'nxpd', 'oauthlib',\n",
       "       'odo', 'olefile', 'openpyxl', 'pandas-datareader', 'pandas-gbq',\n",
       "       'pandocfilters', 'parso', 'partd', 'path.py', 'pathlib2', 'patsy',\n",
       "       'pep8', 'performotron', 'pexpect', 'pickleshare', 'Pillow', 'pip',\n",
       "       'pkginfo', 'plotly-express', 'ply', 'prometheus-client',\n",
       "       'prompt-toolkit', 'protobuf', 'psutil', 'psycopg2', 'ptyprocess',\n",
       "       'py-midi', 'pyasn1', 'pyasn1-modules', 'pycodestyle', 'pycosat',\n",
       "       'pycrypto', 'pycurl', 'pydata-google-auth', 'pyeda', 'pyflakes',\n",
       "       'Pygments', 'PyGSP', 'PyJWT', 'pylatexenc', 'pylint', 'pymed',\n",
       "       'pymongo', 'pyodbc', 'pyscf', 'pyserial', 'PySocks',\n",
       "       'pytest-arraydiff', 'pytest-astropy', 'pytest-doctestplus',\n",
       "       'pytest-openfiles', 'pytest-remotedata', 'python-slugify',\n",
       "       'PyWavelets', 'pywikibot', 'PyYAML', 'pyzmq', 'qiskit',\n",
       "       'qiskit-aer', 'qiskit-aqua', 'qiskit-chemistry',\n",
       "       'qiskit-ibmq-provider', 'qiskit-ignis', 'qiskit-terra',\n",
       "       'QtAwesome', 'qtconsole', 'QtPy', 'Quandl', 'rasterio', 'redis',\n",
       "       'requests-ntlm', 'requests-oauthlib', 'rope', 'rsa', 'ruamel-yaml',\n",
       "       's3transfer', 'scikit-image', 'Send2Trash', 'setuptools',\n",
       "       'simplegeneric', 'singledispatch', 'snowballstemmer', 'snuggs',\n",
       "       'sortedcollections', 'sortedcontainers', 'Sphinx',\n",
       "       'sphinxcontrib-websupport', 'spyder', 'SQLAlchemy', 'statsmodels',\n",
       "       'sympy', 'tables', 'tasklogger', 'tb-nightly', 'tblib',\n",
       "       'tensorboard', 'tensorflow', 'terminado', 'testpath',\n",
       "       'text-unidecode', 'tf-estimator-nightly', 'toolz', 'torch',\n",
       "       'traitlets', 'typing', 'unicodecsv', 'voila', 'voila-gridstack',\n",
       "       'webencodings', 'websockets', 'Werkzeug', 'wheel', 'whois',\n",
       "       'widgetsnbextension', 'wordcloud', 'wptools', 'wrapt', 'WTForms',\n",
       "       'xl2dict', 'xlrd', 'XlsxWriter', 'xlwings', 'xlwt', 'zict'],\n",
       "      dtype=object)"
      ]
     },
     "execution_count": 34,
     "metadata": {},
     "output_type": "execute_result"
    }
   ],
   "source": [
    "re0[re0[1]==False][0].values"
   ]
  },
  {
   "cell_type": "code",
   "execution_count": null,
   "metadata": {},
   "outputs": [],
   "source": []
  }
 ],
 "metadata": {
  "kernelspec": {
   "display_name": "Python 3",
   "language": "python",
   "name": "python3"
  },
  "language_info": {
   "codemirror_mode": {
    "name": "ipython",
    "version": 3
   },
   "file_extension": ".py",
   "mimetype": "text/x-python",
   "name": "python",
   "nbconvert_exporter": "python",
   "pygments_lexer": "ipython3",
   "version": "3.6.8"
  }
 },
 "nbformat": 4,
 "nbformat_minor": 2
}
