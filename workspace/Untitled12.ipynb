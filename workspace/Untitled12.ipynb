{
 "cells": [
  {
   "cell_type": "code",
   "execution_count": 2,
   "metadata": {},
   "outputs": [],
   "source": [
    "import Archetypes as ar"
   ]
  },
  {
   "cell_type": "code",
   "execution_count": 3,
   "metadata": {},
   "outputs": [
    {
     "name": "stdout",
     "output_type": "stream",
     "text": [
      "-O                                     archetypes_test.ipynb\r\n",
      "ACS2013_2017_PUMS_README.pdf           archetypes_test_2.ipynb\r\n",
      "\u001b[34mArchetypes\u001b[m\u001b[m/                            archetypes_test_3.ipynb\r\n",
      "Evaluate_abilities.ipynb               archetypes_test_4.ipynb\r\n",
      "Untitled.ipynb                         boolma.py\r\n",
      "Untitled1.ipynb                        clall.pkl\r\n",
      "Untitled10.ipynb                       \u001b[34mdash-test\u001b[m\u001b[m/\r\n",
      "Untitled11.ipynb                       \u001b[34mdata\u001b[m\u001b[m/\r\n",
      "Untitled12.ipynb                       \u001b[34mdb_23_2_excel.hold\u001b[m\u001b[m/\r\n",
      "Untitled2.ipynb                        \u001b[34mdb_23_3_excel\u001b[m\u001b[m/\r\n",
      "Untitled3.ipynb                        \u001b[34mdb_23_3_excel.hold\u001b[m\u001b[m/\r\n",
      "Untitled4.ipynb                        \u001b[31mfetch_all_state_zips.sh\u001b[m\u001b[m*\r\n",
      "Untitled5.ipynb                        fit_plots.ipynb\r\n",
      "Untitled6.ipynb                        \u001b[34mgoogle-datalab-test\u001b[m\u001b[m/\r\n",
      "Untitled7.ipynb                        jungian_occupation_app-backup-0.ipynb\r\n",
      "Untitled8.ipynb                        jungian_occupation_app.ipynb\r\n",
      "Untitled9.ipynb                        main3_oo.py\r\n",
      "\u001b[34m__pycache__\u001b[m\u001b[m/                           \u001b[34mold\u001b[m\u001b[m/\r\n",
      "abilities.old.py                       psam_p11.csv\r\n",
      "abilities.py                           \u001b[34msrc\u001b[m\u001b[m/\r\n",
      "abilities_2nd.py                       with_LSA_bootstrap-Copy1.ipynb\r\n",
      "archetypes.py                          with_LSA_bootstrap.ipynb\r\n"
     ]
    }
   ],
   "source": [
    "ls"
   ]
  },
  {
   "cell_type": "code",
   "execution_count": 4,
   "metadata": {},
   "outputs": [
    {
     "data": {
      "text/plain": [
       "'/Users/davidnordfors/galvanize/archetypes/workspace'"
      ]
     },
     "execution_count": 4,
     "metadata": {},
     "output_type": "execute_result"
    }
   ],
   "source": [
    "pwd"
   ]
  },
  {
   "cell_type": "code",
   "execution_count": 5,
   "metadata": {},
   "outputs": [
    {
     "name": "stdout",
     "output_type": "stream",
     "text": [
      "-O                                     archetypes_test.ipynb\r\n",
      "ACS2013_2017_PUMS_README.pdf           archetypes_test_2.ipynb\r\n",
      "\u001b[34mArchetypes\u001b[m\u001b[m/                            archetypes_test_3.ipynb\r\n",
      "Evaluate_abilities.ipynb               archetypes_test_4.ipynb\r\n",
      "Untitled.ipynb                         boolma.py\r\n",
      "Untitled1.ipynb                        clall.pkl\r\n",
      "Untitled10.ipynb                       \u001b[34mdash-test\u001b[m\u001b[m/\r\n",
      "Untitled11.ipynb                       \u001b[34mdata\u001b[m\u001b[m/\r\n",
      "Untitled12.ipynb                       \u001b[34mdb_23_2_excel.hold\u001b[m\u001b[m/\r\n",
      "Untitled2.ipynb                        \u001b[34mdb_23_3_excel\u001b[m\u001b[m/\r\n",
      "Untitled3.ipynb                        \u001b[34mdb_23_3_excel.hold\u001b[m\u001b[m/\r\n",
      "Untitled4.ipynb                        \u001b[31mfetch_all_state_zips.sh\u001b[m\u001b[m*\r\n",
      "Untitled5.ipynb                        fit_plots.ipynb\r\n",
      "Untitled6.ipynb                        \u001b[34mgoogle-datalab-test\u001b[m\u001b[m/\r\n",
      "Untitled7.ipynb                        jungian_occupation_app-backup-0.ipynb\r\n",
      "Untitled8.ipynb                        jungian_occupation_app.ipynb\r\n",
      "Untitled9.ipynb                        main3_oo.py\r\n",
      "\u001b[34m__pycache__\u001b[m\u001b[m/                           \u001b[34mold\u001b[m\u001b[m/\r\n",
      "abilities.old.py                       psam_p11.csv\r\n",
      "abilities.py                           \u001b[34msrc\u001b[m\u001b[m/\r\n",
      "abilities_2nd.py                       with_LSA_bootstrap-Copy1.ipynb\r\n",
      "archetypes.py                          with_LSA_bootstrap.ipynb\r\n"
     ]
    }
   ],
   "source": [
    "ls"
   ]
  },
  {
   "cell_type": "code",
   "execution_count": 6,
   "metadata": {},
   "outputs": [],
   "source": [
    "import Archt"
   ]
  },
  {
   "cell_type": "code",
   "execution_count": 7,
   "metadata": {},
   "outputs": [
    {
     "name": "stdout",
     "output_type": "stream",
     "text": [
      "DownloadProgressBar.py  __init__.py\r\n",
      "Mkdirs.py               \u001b[34m__pycache__\u001b[m\u001b[m/\r\n"
     ]
    }
   ],
   "source": [
    "ls Archt"
   ]
  },
  {
   "cell_type": "code",
   "execution_count": null,
   "metadata": {},
   "outputs": [],
   "source": []
  }
 ],
 "metadata": {
  "kernelspec": {
   "display_name": "Python 3",
   "language": "python",
   "name": "python3"
  },
  "language_info": {
   "codemirror_mode": {
    "name": "ipython",
    "version": 3
   },
   "file_extension": ".py",
   "mimetype": "text/x-python",
   "name": "python",
   "nbconvert_exporter": "python",
   "pygments_lexer": "ipython3",
   "version": "3.6.8"
  }
 },
 "nbformat": 4,
 "nbformat_minor": 2
}
