{
 "cells": [
  {
   "cell_type": "markdown",
   "metadata": {
    "button": false,
    "deletable": true,
    "new_sheet": false,
    "run_control": {
     "read_only": false
    }
   },
   "source": [
    "# Patreon Takehome\n",
    "David Nordfors davenordfors@gmail.com"
   ]
  },
  {
   "cell_type": "code",
   "execution_count": 2,
   "metadata": {
    "button": false,
    "collapsed": true,
    "deletable": true,
    "new_sheet": false,
    "run_control": {
     "read_only": false
    }
   },
   "outputs": [],
   "source": [
    "import numpy as np\n",
    "import matplotlib.pyplot as plt\n",
    "from scipy.stats import norm"
   ]
  },
  {
   "cell_type": "markdown",
   "metadata": {
    "button": false,
    "deletable": true,
    "new_sheet": false,
    "run_control": {
     "read_only": false
    }
   },
   "source": [
    "## Question 1\n",
    "\n",
    "*\"Patreon processes over 3 million pledges per month from around the globe, and we wondered whether patrons in different countries pledge different amounts to creators.\"*\n",
    "\n",
    "### Two-sample T-test\n",
    "\n",
    "This is a case for a two-sample T-test: \n",
    "- $H_0$ Null-hypothesis: No difference between patrons' mean pledge for countries A and B \n",
    "- $H_1$ Alternative Hypothesis: Patrons are more generous in one of the countries.  \n",
    "\n",
    "The known statistics for patrons' pledges in countries A and B, where where the standard deviations of the sample distributions are calculated as $ \\sigma_\\bar{x} = \\frac{s}{\\sqrt{n}}$ "
   ]
  },
  {
   "cell_type": "code",
   "execution_count": 3,
   "metadata": {
    "button": false,
    "collapsed": false,
    "deletable": true,
    "new_sheet": false,
    "run_control": {
     "read_only": false
    }
   },
   "outputs": [
    {
     "data": {
      "text/plain": [
       "(0.03779644730092272, 0.04109323975500113)"
      ]
     },
     "execution_count": 3,
     "metadata": {},
     "output_type": "execute_result"
    }
   ],
   "source": [
    "#Country A\n",
    "nA = 44800                 # sample number of pledges\n",
    "muA = 7.11                 # sample mean pledge\n",
    "sA = 8                     # sample standard deviation\n",
    "sdA = sA/np.sqrt(nA)       # sample distribution standard deviation\n",
    "\n",
    "#Country B\n",
    "nB = 37900                 # sample number of pledges\n",
    "muB = 7.48                 # sample mean pledge\n",
    "sB = 8                     # sample standard deviation \n",
    "sdB = sB/np.sqrt(nB)       # sample distribution standard deviation\n",
    "\n",
    "sdA,sdB"
   ]
  },
  {
   "cell_type": "markdown",
   "metadata": {
    "button": false,
    "deletable": true,
    "new_sheet": false,
    "run_control": {
     "read_only": false
    }
   },
   "source": [
    "The probability distributions for the mean values:"
   ]
  },
  {
   "cell_type": "code",
   "execution_count": 4,
   "metadata": {
    "button": false,
    "collapsed": false,
    "deletable": true,
    "new_sheet": false,
    "run_control": {
     "read_only": false
    }
   },
   "outputs": [
    {
     "data": {
      "image/png": "[encoded data removed]",
      "text/plain": [
       "<Figure size 432x288 with 1 Axes>"
      ]
     },
     "metadata": {},
     "output_type": "display_data"
    }
   ],
   "source": [
    "x_axis = np.arange(7, 7.8, 0.001)\n",
    "plt.plot(x_axis, norm.pdf(x_axis,muA,sdA),label='Country A')\n",
    "plt.plot(x_axis, norm.pdf(x_axis,muB,sdB),label='Country B')\n",
    "plt.legend()\n",
    "plt.title('Mean pledge probability distributions')\n",
    "plt.xlabel('Mean Pledge [$]')\n",
    "plt.show()"
   ]
  },
  {
   "cell_type": "markdown",
   "metadata": {
    "button": false,
    "deletable": true,
    "new_sheet": false,
    "run_control": {
     "read_only": false
    }
   },
   "source": [
    "The probability that $H_0$ is *true* - that A and B have the same mean pledge - is the overlap between these two distributions, which is very small. \n",
    "\n",
    "To calculate it, begin with calculating the t-value\n",
    "$ t = \\frac{\\mu_A - \\mu_B}{ \\sqrt{\\frac{s_A^2}{n_A} + \\frac{s_B^2}{n_B}}} $\n",
    "\n",
    "and then the p-value, which is the probability that A and B have the same actual mean value. The p-value is *extremely* small.   "
   ]
  },
  {
   "cell_type": "code",
   "execution_count": 5,
   "metadata": {
    "button": false,
    "collapsed": false,
    "deletable": true,
    "new_sheet": false,
    "run_control": {
     "read_only": false
    }
   },
   "outputs": [
    {
     "name": "stdout",
     "output_type": "stream",
     "text": [
      "p-value =  3.4255487335599355e-11\n"
     ]
    }
   ],
   "source": [
    "t = (muA - muB)/np.sqrt(sdA**2 + sdB**2)\n",
    "p = 2*(1-norm.cdf(abs(t)))\n",
    "print('p-value = ',p)"
   ]
  },
  {
   "cell_type": "markdown",
   "metadata": {
    "button": false,
    "deletable": true,
    "new_sheet": false,
    "run_control": {
     "read_only": false
    }
   },
   "source": [
    "### Comparing Distributions\n",
    "\n",
    "The pledge distribution has similar characteristics in all countries, which tells us with confidence that country B has more generous patrons. If this was not the case, variations in skewness could have, in principle, created similar sample averages and sample standard deviations and still have looked quite different. But since this is not the case....\n",
    "\n",
    "### CONCLUSION: Patrons in country B make larger pledges.\n",
    "\n",
    "In general, when it comes to distributions of wealth and people, may it be donations, salaries, prices and so on, it can be convenient to work with logarithmic values because they counteract skewness, and get closer to bell curves.\n",
    "\n",
    "# ADDITION (6/29): Linear vs Log scale\n",
    "It seem that Patreon is already working with the logarithms of the pledges, as I suggested, because the linear mean of the distribution is off the chart while the logarithmic mean bracket sandwiches the mean pledges in countries A and B of \\$7-8. \n",
    "\n",
    "See below (the 1% pledge above \\$500 is placed in the range of \\$500-2000, with \\$1000 as the midpoint)\n",
    "\n",
    "### UPDATED CONCLUSION: Patrons in country B make larger pledges.\n",
    "The calculation remains the same. Note: even with the skewed distribution of pledges in ordinary 'linear dollars', the Central Limit Theorem Applies, meaning that the probability density of the mean of the sample distribution is a normal distribution, even when the sample distribution is not. "
   ]
  },
  {
   "cell_type": "code",
   "execution_count": 51,
   "metadata": {
    "button": false,
    "collapsed": false,
    "deletable": true,
    "new_sheet": false,
    "run_control": {
     "read_only": false
    }
   },
   "outputs": [
    {
     "name": "stdout",
     "output_type": "stream",
     "text": [
      "Are mean pledges in countries A and B - $7-8 - within the brackets?  \n",
      "**NO*** LINEAR mean pledge bracket - low: 13.22   med: 64.16   high: 120.1\n",
      "**YES** LOGARI mean pledge bracket - low: 5.105   med: 9.222   high: 10.679\n"
     ]
    }
   ],
   "source": [
    "log = np.log\n",
    "lin_mean_low = (20 + 1*7 + 5*25 + 5  *2 + 10*15 + 10*3 + 20*5 + 20 *19 +500 )/100\n",
    "lin_mean_med = (20 + 3*7 + 5*25 + 7.5*2 + 10*15 + 15*3 + 20*5 + 260*19 +1000)/100\n",
    "lin_mean_high= (20 + 5*7 + 5*25 + 10 *2 + 10*15 + 20*3 + 20*5 + 500*19 +2000)/100\n",
    "\n",
    "log_mean_low =np.exp((0*20 + log(1)*7 + log(5)*25 + log(5)  *2 + log(10)*15 + log(10)*3 + log(20)*5 + log(20) *19 + log(500) )/100)\n",
    "log_mean_med =np.exp((0*20 + log(3)*7 + log(5)*25 + log(7.5)*2 + log(10)*15 + log(15)*3 + log(20)*5 + log(260)*19 + log(1000))/100)\n",
    "log_mean_high=np.exp((0*20 + log(5)*7 + log(5)*25 + log(5)  *2 + log(10)*15 + log(10)*3 + log(20)*5 + log(500)*19 + log(2000))/100)\n",
    "\n",
    "print('Are mean pledges in countries A and B - $7-8 - within the brackets?  \\n'\n",
    "      '**NO*** LINEAR mean pledge bracket - low: ' + str(lin_mean_low) + '   med: ' + str(lin_mean_med) + '   high: ' + str(lin_mean_high) +'\\n'+\n",
    "      '**YES** LOGARI mean pledge bracket - low: ' + str(np.round(log_mean_low,3)) + '   med: ' + str(np.round(log_mean_med,3)) + '   high: ' + str(np.round(log_mean_high,3)))\n",
    "\n"
   ]
  },
  {
   "cell_type": "markdown",
   "metadata": {
    "button": false,
    "deletable": true,
    "new_sheet": false,
    "run_control": {
     "read_only": false
    }
   },
   "source": [
    "## Question 2a: Early indicators of s Content Creator's Success\n",
    "\n",
    "Possible attributes, behaviors, and factors that might serve as early indicators of long-term success. \n",
    "\n",
    "- **CONTENT CREATOR** \n",
    "    - **Content creator's following in other social media** Many content creators publish elsewhere, especially on ones with broadcast capabilities, such as YouTube and Twitter, such as a) Number of likes b) retweets (weighted by the number of followers of the 're-tweeter') c) number of comments d)sentiment analysis\n",
    "\n",
    "- **PATRONS** \n",
    "    - **Growth of number of patrons during the first weeks** : Indicates how well the creator is managing to promote content in the first push. Creators backed by marketing efforts (established artists, authors etc) will be reaching out to existing followers. The characteristics of the growth pattern contains information - is it exponential (viral growth) or linear (uncorrelated individual responses to broadcast)\n",
    "    \n",
    "- **BUSINESS**\n",
    "   - **Growth of pledges during the first weeks** Are patrons increasing or decreasing their pledges? Look not only at the absolute numbers but also at the shape of growth (as with patrons)\n",
    "\n",
    "- **CONTENT - Topic modeling / genres**\n",
    "    - **Construct Genres** Using the whole graph of Content Creators and Patrons, weighted bny pledges, use 'soft clustering' techniques (such as LDA, NMF or SVD) to construct topics/genres and create statistics for them. (similar to http://github.com/dnordfors/Archetypes ) How much is pledged for each genre? Average pledge? Which genres are in growing demand? Techniques for content analysis, such as NLP / sentiment analysis, etc, add to this picture. \n",
    "    - **Map content creator onto genres** Is the content creator active in 'hot' genress? (Note: the creator will belong to several genres, e.g. 20%'Blues', 50%'Rock' etc. Map the trends of the genres onto the content creator. \n",
    "\n",
    "\n",
    "## Question 2b: Early Indicators of Pledge Sustainability\n",
    "\n",
    "- **CONTENT CREATOR** \n",
    "    - **Content creator's posting frequency** Is the content creator posting regularly? We can hypothesize that patrons want the amount of regular posts to be larger than the amount of regular invoices. \n",
    "\n",
    "- **PATRONS**  \n",
    "    - **Growth rate characteristics**  A continuous exponential growth, for example, indicates it's viral - followers are recruiting more followers.  \n",
    "    - **Patron behavior** Are the patrons supporting other content creators, too? How sustainable are their pledges on average? \n",
    "    - **Regional distribution / Demographics of patrons** How many from country A or country B? We know that country B has, on average, more generous patrons. How large are the markets?\n",
    "    - **Churn:** Once hooked, do the patrons stay on?\n",
    "    - **Genres** See genre-analysis above, here applied on patrons. \n",
    "\n",
    "\n"
   ]
  },
  {
   "cell_type": "code",
   "execution_count": null,
   "metadata": {
    "button": false,
    "collapsed": true,
    "deletable": true,
    "new_sheet": false,
    "run_control": {
     "read_only": false
    }
   },
   "outputs": [],
   "source": []
  }
 ],
 "metadata": {
  "kernelspec": {
   "display_name": "Python 3",
   "language": "python",
   "name": "python3"
  },
  "language_info": {
   "codemirror_mode": {
    "name": "ipython",
    "version": 3
   },
   "file_extension": ".py",
   "mimetype": "text/x-python",
   "name": "python",
   "nbconvert_exporter": "python",
   "pygments_lexer": "ipython3",
   "version": "3.5.0"
  }
 },
 "nbformat": 4,
 "nbformat_minor": 2
}
